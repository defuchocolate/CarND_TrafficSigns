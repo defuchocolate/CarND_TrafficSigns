{
 "cells": [
  {
   "cell_type": "markdown",
   "metadata": {
    "deletable": true,
    "editable": true
   },
   "source": [
    "# Self-Driving Car Engineer Nanodegree\n",
    "\n",
    "## Deep Learning\n",
    "\n",
    "## Project: Build a Traffic Sign Recognition Classifier\n",
    "\n",
    "In this notebook, a template is provided for you to implement your functionality in stages, which is required to successfully complete this project. If additional code is required that cannot be included in the notebook, be sure that the Python code is successfully imported and included in your submission if necessary. \n",
    "\n",
    "> **Note**: Once you have completed all of the code implementations, you need to finalize your work by exporting the iPython Notebook as an HTML document. Before exporting the notebook to html, all of the code cells need to have been run so that reviewers can see the final implementation and output. You can then export the notebook by using the menu above and navigating to  \\n\",\n",
    "    \"**File -> Download as -> HTML (.html)**. Include the finished document along with this notebook as your submission. \n",
    "\n",
    "In addition to implementing code, there is a writeup to complete. The writeup should be completed in a separate file, which can be either a markdown file or a pdf document. There is a [write up template](https://github.com/udacity/CarND-Traffic-Sign-Classifier-Project/blob/master/writeup_template.md) that can be used to guide the writing process. Completing the code template and writeup template will cover all of the [rubric points](https://review.udacity.com/#!/rubrics/481/view) for this project.\n",
    "\n",
    "The [rubric](https://review.udacity.com/#!/rubrics/481/view) contains \"Stand Out Suggestions\" for enhancing the project beyond the minimum requirements. The stand out suggestions are optional. If you decide to pursue the \"stand out suggestions\", you can include the code in this Ipython notebook and also discuss the results in the writeup file.\n",
    "\n",
    "\n",
    ">**Note:** Code and Markdown cells can be executed using the **Shift + Enter** keyboard shortcut. In addition, Markdown cells can be edited by typically double-clicking the cell to enter edit mode."
   ]
  },
  {
   "cell_type": "markdown",
   "metadata": {
    "deletable": true,
    "editable": true
   },
   "source": [
    "---\n",
    "## Step 0: Load The Data"
   ]
  },
  {
   "cell_type": "code",
   "execution_count": 1,
   "metadata": {
    "collapsed": false,
    "deletable": true,
    "editable": true
   },
   "outputs": [],
   "source": [
    "# Load pickled data\n",
    "import pickle\n",
    "\n",
    "# TODO: Fill this in based on where you saved the training and testing data\n",
    "\n",
    "training_file = \"data/traffic-signs-data/train.p\"\n",
    "validation_file=\"data/traffic-signs-data/valid.p\"\n",
    "testing_file = \"data/traffic-signs-data/test.p\"\n",
    "\n",
    "with open(training_file, mode='rb') as f:\n",
    "    train = pickle.load(f)\n",
    "with open(validation_file, mode='rb') as f:\n",
    "    valid = pickle.load(f)\n",
    "with open(testing_file, mode='rb') as f:\n",
    "    test = pickle.load(f)\n",
    "    \n",
    "X_train, y_train = train['features'], train['labels']\n",
    "X_valid, y_valid = valid['features'], valid['labels']\n",
    "X_test, y_test = test['features'], test['labels']\n"
   ]
  },
  {
   "cell_type": "markdown",
   "metadata": {
    "deletable": true,
    "editable": true
   },
   "source": [
    "---\n",
    "\n",
    "## Step 1: Dataset Summary & Exploration\n",
    "\n",
    "The pickled data is a dictionary with 4 key/value pairs:\n",
    "\n",
    "- `'features'` is a 4D array containing raw pixel data of the traffic sign images, (num examples, width, height, channels).\n",
    "- `'labels'` is a 1D array containing the label/class id of the traffic sign. The file `signnames.csv` contains id -> name mappings for each id.\n",
    "- `'sizes'` is a list containing tuples, (width, height) representing the the original width and height the image.\n",
    "- `'coords'` is a list containing tuples, (x1, y1, x2, y2) representing coordinates of a bounding box around the sign in the image. **THESE COORDINATES ASSUME THE ORIGINAL IMAGE. THE PICKLED DATA CONTAINS RESIZED VERSIONS (32 by 32) OF THESE IMAGES**\n",
    "\n",
    "Complete the basic data summary below. Use python, numpy and/or pandas methods to calculate the data summary rather than hard coding the results. For example, the [pandas shape method](http://pandas.pydata.org/pandas-docs/stable/generated/pandas.DataFrame.shape.html) might be useful for calculating some of the summary results. "
   ]
  },
  {
   "cell_type": "markdown",
   "metadata": {
    "deletable": true,
    "editable": true
   },
   "source": [
    "### Provide a Basic Summary of the Data Set Using Python, Numpy and/or Pandas"
   ]
  },
  {
   "cell_type": "code",
   "execution_count": 2,
   "metadata": {
    "collapsed": false,
    "deletable": true,
    "editable": true
   },
   "outputs": [
    {
     "name": "stdout",
     "output_type": "stream",
     "text": [
      "Number of training examples = 34799\n",
      "Number of validation examples = 4410\n",
      "Number of testing examples = 12630\n",
      "Image data shape = (32, 32, 3)\n",
      "Number of classes = 43\n"
     ]
    }
   ],
   "source": [
    "import numpy as np\n",
    "### Replace each question mark with the appropriate value. \n",
    "### Use python, pandas or numpy methods rather than hard coding the results\n",
    "\n",
    "# TODO: Number of training examples\n",
    "n_train = len(X_train)\n",
    "\n",
    "#Girish : Adding n_valid\n",
    "# TODO: Number of training examples\n",
    "n_valid = len(X_valid)\n",
    "\n",
    "# TODO: Number of testing examples.\n",
    "n_test = len(X_test)\n",
    "\n",
    "# TODO: What's the shape of an traffic sign image?\n",
    "image_shape = X_train[0].shape\n",
    "\n",
    "# TODO: How many unique classes/labels there are in the dataset.\n",
    "n_classes = len(np.unique(y_train))\n",
    "\n",
    "\n",
    "\n",
    "print(\"Number of training examples =\", n_train)\n",
    "print(\"Number of validation examples =\", n_valid)\n",
    "print(\"Number of testing examples =\", n_test)\n",
    "print(\"Image data shape =\", image_shape)\n",
    "print(\"Number of classes =\", n_classes)"
   ]
  },
  {
   "cell_type": "code",
   "execution_count": 3,
   "metadata": {
    "collapsed": true,
    "deletable": true,
    "editable": true
   },
   "outputs": [],
   "source": [
    "#Helper task to group the data per class. Useful if data needs to be augmented per class.\n",
    "def group_data_per_class(data,labels) :\n",
    "    set_of_labels = np.unique(labels)\n",
    "    num_of_labels = len(set_of_labels)\n",
    "    #print(num_of_labels)\n",
    "    data_per_class = {}\n",
    "    label_per_class = {}\n",
    "    for i in range(0,num_of_labels) :\n",
    "        label = set_of_labels[i]\n",
    "        data_per_class[label] = data[labels == label]\n",
    "        label_per_class[label] = labels[labels == label]\n",
    "    \n",
    "    return [data_per_class,label_per_class]\n",
    "\n",
    "\n",
    "        \n"
   ]
  },
  {
   "cell_type": "code",
   "execution_count": null,
   "metadata": {
    "collapsed": false,
    "deletable": true,
    "editable": true
   },
   "outputs": [],
   "source": []
  },
  {
   "cell_type": "markdown",
   "metadata": {
    "deletable": true,
    "editable": true
   },
   "source": [
    "### Include an exploratory visualization of the dataset"
   ]
  },
  {
   "cell_type": "markdown",
   "metadata": {
    "deletable": true,
    "editable": true
   },
   "source": [
    "Visualize the German Traffic Signs Dataset using the pickled file(s). This is open ended, suggestions include: plotting traffic sign images, plotting the count of each sign, etc.\n",
    "\n",
    "The [Matplotlib](http://matplotlib.org/) [examples](http://matplotlib.org/examples/index.html) and [gallery](http://matplotlib.org/gallery.html) pages are a great resource for doing visualizations in Python.\n",
    "\n",
    "**NOTE:** It's recommended you start with something simple first. If you wish to do more, come back to it after you've completed the rest of the sections."
   ]
  },
  {
   "cell_type": "code",
   "execution_count": 4,
   "metadata": {
    "collapsed": true,
    "deletable": true,
    "editable": true
   },
   "outputs": [],
   "source": [
    "### Data exploration visualization code goes here.\n",
    "### Feel free to use as many code cells as needed.\n",
    "import matplotlib.pyplot as plt\n",
    "# Visualizations will be shown in the notebook.\n",
    "%matplotlib inline"
   ]
  },
  {
   "cell_type": "code",
   "execution_count": 5,
   "metadata": {
    "collapsed": false,
    "deletable": true,
    "editable": true
   },
   "outputs": [
    {
     "data": {
      "text/plain": [
       "array([[<matplotlib.axes._subplots.AxesSubplot object at 0x125bce080>]], dtype=object)"
      ]
     },
     "execution_count": 5,
     "metadata": {},
     "output_type": "execute_result"
    },
    {
     "data": {
      "image/png": "[encoded data removed]",
      "text/plain": [
       "<matplotlib.figure.Figure at 0x1239a56d8>"
      ]
     },
     "metadata": {},
     "output_type": "display_data"
    },
    {
     "data": {
      "image/png": "[encoded data removed]",
      "text/plain": [
       "<matplotlib.figure.Figure at 0x125a30c88>"
      ]
     },
     "metadata": {},
     "output_type": "display_data"
    },
    {
     "data": {
      "image/png": "[encoded data removed]",
      "text/plain": [
       "<matplotlib.figure.Figure at 0x125aeb6d8>"
      ]
     },
     "metadata": {},
     "output_type": "display_data"
    }
   ],
   "source": [
    "import pandas as pd\n",
    "df = pd.DataFrame(data=y_train)\n",
    "df.hist(bins=43)\n",
    "df = pd.DataFrame(data=y_test)\n",
    "df.hist(bins=43)\n",
    "df = pd.DataFrame(data=y_valid)\n",
    "df.hist(bins=43)"
   ]
  },
  {
   "cell_type": "code",
   "execution_count": null,
   "metadata": {
    "collapsed": true,
    "deletable": true,
    "editable": true
   },
   "outputs": [],
   "source": []
  },
  {
   "cell_type": "markdown",
   "metadata": {
    "deletable": true,
    "editable": true
   },
   "source": [
    "----\n",
    "\n",
    "## Step 2: Design and Test a Model Architecture\n",
    "\n",
    "Design and implement a deep learning model that learns to recognize traffic signs. Train and test your model on the [German Traffic Sign Dataset](http://benchmark.ini.rub.de/?section=gtsrb&subsection=dataset).\n",
    "\n",
    "There are various aspects to consider when thinking about this problem:\n",
    "\n",
    "- Neural network architecture\n",
    "- Play around preprocessing techniques (normalization, rgb to grayscale, etc)\n",
    "- Number of examples per label (some have more than others).\n",
    "- Generate fake data.\n",
    "\n",
    "Here is an example of a [published baseline model on this problem](http://yann.lecun.com/exdb/publis/pdf/sermanet-ijcnn-11.pdf). It's not required to be familiar with the approach used in the paper but, it's good practice to try to read papers like these.\n",
    "\n",
    "**NOTE:** The LeNet-5 implementation shown in the [classroom](https://classroom.udacity.com/nanodegrees/nd013/parts/fbf77062-5703-404e-b60c-95b78b2f3f9e/modules/6df7ae49-c61c-4bb2-a23e-6527e69209ec/lessons/601ae704-1035-4287-8b11-e2c2716217ad/concepts/d4aca031-508f-4e0b-b493-e7b706120f81) at the end of the CNN lesson is a solid starting point. You'll have to change the number of classes and possibly the preprocessing, but aside from that it's plug and play!"
   ]
  },
  {
   "cell_type": "markdown",
   "metadata": {
    "deletable": true,
    "editable": true
   },
   "source": [
    "### Pre-process the Data Set (normalization, grayscale, etc.)"
   ]
  },
  {
   "cell_type": "markdown",
   "metadata": {
    "deletable": true,
    "editable": true
   },
   "source": [
    "Use the code cell (or multiple code cells, if necessary) to implement the first step of your project."
   ]
  },
  {
   "cell_type": "code",
   "execution_count": 6,
   "metadata": {
    "collapsed": false,
    "deletable": true,
    "editable": true
   },
   "outputs": [
    {
     "name": "stdout",
     "output_type": "stream",
     "text": [
      "(34799, 32, 32)\n"
     ]
    }
   ],
   "source": [
    "### Preprocess the data here. Preprocessing steps could include normalization, converting to grayscale, etc.\n",
    "### Feel free to use as many code cells as needed.\n",
    "import cv2\n",
    "# Convert to grayscale \n",
    "def rgb2gray(rgb):\n",
    "\n",
    "    r, g, b = rgb[:,:,:,0], rgb[:,:,:,1], rgb[:,:,:,2]\n",
    "    gray = 0.2989 * r + 0.5870 * g + 0.1140 * b\n",
    "\n",
    "    return gray\n",
    "\n",
    "\n",
    "def normalize(x):\n",
    "    a = 0.1\n",
    "    b = 0.9\n",
    "    x_min = 0\n",
    "    x_max = 255\n",
    "    return a + (x - x_min) * (b - a) / (x_max - x_min)\n",
    "\n",
    "def resizeImg(x) :\n",
    "    return cv2.resize(x, (32,32))\n",
    "\n",
    "\n",
    "X_train = normalize(rgb2gray(X_train))\n",
    "X_test = normalize(rgb2gray(X_test))\n",
    "X_valid = normalize(rgb2gray(X_valid))\n",
    "print(X_train.shape)\n",
    "from sklearn.utils import shuffle\n",
    "X_train, y_train = shuffle(X_train, y_train)"
   ]
  },
  {
   "cell_type": "code",
   "execution_count": 7,
   "metadata": {
    "collapsed": true,
    "deletable": true,
    "editable": true
   },
   "outputs": [],
   "source": [
    "X_train = X_train.reshape((-1,32,32,1))\n",
    "X_test = X_test.reshape((-1,32,32,1))\n",
    "X_valid = X_valid.reshape((-1,32,32,1))"
   ]
  },
  {
   "cell_type": "code",
   "execution_count": 8,
   "metadata": {
    "collapsed": false
   },
   "outputs": [
    {
     "name": "stdout",
     "output_type": "stream",
     "text": [
      "(1080, 32, 32, 1)\n",
      "1080\n",
      "(1080, 32, 32, 1)\n",
      "(34799, 32, 32, 1)\n",
      "(35879, 32, 32, 1)\n",
      "(35879,)\n"
     ]
    }
   ],
   "source": [
    "def add_noise(X) :\n",
    "    return cv2.GaussianBlur(X, (3,3),1.0)\n",
    "            \n",
    "#Augmenting based on feedback \n",
    "group_train = group_data_per_class(X_train,y_train)\n",
    "X_train_temp = group_train[0][18]\n",
    "y_train_temp = group_train[1][18]\n",
    "print(X_train_temp.shape)\n",
    "print(len(y_train_temp))\n",
    "\n",
    "index = 10\n",
    "img_without_noise = X_train_temp[index].squeeze()\n",
    "imgs_with_noise = add_noise(X_train_temp.squeeze())\n",
    "imgs_with_noise = imgs_with_noise.reshape((-1,32,32,1))\n",
    "print(imgs_with_noise.shape)\n",
    "\n",
    "X_train_aug = np.copy(X_train)\n",
    "y_train_aug = np.copy(y_train)\n",
    "print(X_train_aug.shape)\n",
    "X_train_aug = np.append(X_train_aug,imgs_with_noise,axis=0)\n",
    "y_train_aug = np.append(y_train_aug,y_train_temp)\n",
    "print(X_train_aug.shape)\n",
    "print(y_train_aug.shape)\n",
    "X_train, y_train = shuffle(X_train_aug, y_train_aug)"
   ]
  },
  {
   "cell_type": "markdown",
   "metadata": {
    "deletable": true,
    "editable": true
   },
   "source": [
    "### Model Architecture"
   ]
  },
  {
   "cell_type": "code",
   "execution_count": 9,
   "metadata": {
    "collapsed": true,
    "deletable": true,
    "editable": true
   },
   "outputs": [],
   "source": [
    "### Define your architecture here.\n",
    "### Feel free to use as many code cells as needed.\n",
    "import tensorflow as tf\n",
    "\n",
    "EPOCHS = 15\n",
    "BATCH_SIZE = 128"
   ]
  },
  {
   "cell_type": "code",
   "execution_count": 138,
   "metadata": {
    "collapsed": false,
    "deletable": true,
    "editable": true
   },
   "outputs": [],
   "source": [
    "from tensorflow.contrib.layers import flatten\n",
    "\n",
    "def LeNet(x,keep_prob):    \n",
    "    # Arguments used for tf.truncated_normal, randomly defines variables for the weights and biases for each layer\n",
    "    mu = 0\n",
    "    sigma = 0.1\n",
    "    \n",
    "    #Layer 1: Convolutional. Input = 32x32x1. Output = 28x28x6.\n",
    "    conv1_W = tf.Variable(tf.truncated_normal(shape=(5, 5, 1, 6), mean = mu, stddev = sigma))\n",
    "    conv1_b = tf.Variable(tf.zeros(6))\n",
    "    conv1   = tf.nn.conv2d(x, conv1_W, strides=[1, 1, 1, 1], padding='VALID') + conv1_b\n",
    "\n",
    "    #Activation.\n",
    "    conv1 = tf.nn.relu(conv1)\n",
    "\n",
    "    # Pooling. Input = 28x28x6. Output = 14x14x6.\n",
    "    conv1 = tf.nn.max_pool(conv1, ksize=[1, 2, 2, 1], strides=[1, 2, 2, 1], padding='VALID')\n",
    "    print(conv1.get_shape())\n",
    "    # Layer 2: Convolutional. Output = 10x10x16.\n",
    "    conv2_W = tf.Variable(tf.truncated_normal(shape=(5, 5, 6, 16), mean = mu, stddev = sigma))\n",
    "    conv2_b = tf.Variable(tf.zeros(16))\n",
    "    conv2   = tf.nn.conv2d(conv1, conv2_W, strides=[1, 1, 1, 1], padding='VALID') + conv2_b\n",
    "    \n",
    "    # Activation.\n",
    "    conv2 = tf.nn.relu(conv2)\n",
    "\n",
    "    # Pooling. Input = 10x10x16. Output = 5x5x16.\n",
    "    conv2 = tf.nn.max_pool(conv2, ksize=[1, 2, 2, 1], strides=[1, 2, 2, 1], padding='VALID')\n",
    "    conv2 = tf.nn.dropout(conv2, keep_prob)\n",
    "\n",
    "    # Flatten. Input = 5x5x16. Output = 400.\n",
    "    fc0   = flatten(conv2)\n",
    "    \n",
    "    # Layer 3: Fully Connected. Input = 400. Output = 120.\n",
    "    fc1_W = tf.Variable(tf.truncated_normal(shape=(400, 120), mean = mu, stddev = sigma))\n",
    "    fc1_b = tf.Variable(tf.zeros(120))\n",
    "    fc1   = tf.matmul(fc0, fc1_W) + fc1_b\n",
    "    \n",
    "    # Activation.\n",
    "    fc1    = tf.nn.relu(fc1)\n",
    "\n",
    "    # Layer 4: Fully Connected. Input = 120. Output = 84.\n",
    "    fc2_W  = tf.Variable(tf.truncated_normal(shape=(120, 84), mean = mu, stddev = sigma))\n",
    "    fc2_b  = tf.Variable(tf.zeros(84))\n",
    "    fc2    = tf.matmul(fc1, fc2_W) + fc2_b\n",
    "    \n",
    "    # Activation.\n",
    "    fc2    = tf.nn.relu(fc2)\n",
    "\n",
    "    # Layer 5: Fully Connected. Input = 84. Output = 43.\n",
    "    fc3_W  = tf.Variable(tf.truncated_normal(shape=(84, 43), mean = mu, stddev = sigma))\n",
    "    fc3_b  = tf.Variable(tf.zeros(43))\n",
    "    logits = tf.matmul(fc2, fc3_W) + fc3_b\n",
    "    \n",
    "    print(fc3_b[18].get_shape())\n",
    "    \n",
    "    l2_regularization_penalty = 1.0\n",
    "    #l2_loss = l2_regularization_penalty * (tf.nn.l2_loss(conv1_W) + tf.nn.l2_loss(conv2_W) + \\\n",
    "    #                                  tf.nn.l2_loss(fc1_W) + \\\n",
    "    #                                   tf.nn.l2_loss(fc2_W) + \\\n",
    "    #                                       tf.nn.l2_loss(fc3_W) )\n",
    "    l2_loss = l2_regularization_penalty * (tf.nn.l2_loss(fc3_W))\n",
    "                    \n",
    "    \n",
    "    return [logits,l2_loss,fc3_W[:,18]]"
   ]
  },
  {
   "cell_type": "code",
   "execution_count": 139,
   "metadata": {
    "collapsed": true,
    "deletable": true,
    "editable": true
   },
   "outputs": [],
   "source": [
    "x = tf.placeholder(tf.float32, (None, 32, 32, 1))\n",
    "y = tf.placeholder(tf.int32, (None))\n",
    "keep_prob = tf.placeholder(tf.float32)\n",
    "one_hot_y = tf.one_hot(y, 43)"
   ]
  },
  {
   "cell_type": "markdown",
   "metadata": {
    "deletable": true,
    "editable": true
   },
   "source": [
    "### Train, Validate and Test the Model"
   ]
  },
  {
   "cell_type": "markdown",
   "metadata": {
    "deletable": true,
    "editable": true
   },
   "source": [
    "A validation set can be used to assess how well the model is performing. A low accuracy on the training and validation\n",
    "sets imply underfitting. A high accuracy on the test set but low accuracy on the validation set implies overfitting."
   ]
  },
  {
   "cell_type": "code",
   "execution_count": 140,
   "metadata": {
    "collapsed": true,
    "deletable": true,
    "editable": true
   },
   "outputs": [],
   "source": [
    "### Train your model here.\n",
    "### Calculate and report the accuracy on the training and validation set.\n",
    "### Once a final model architecture is selected, \n",
    "### the accuracy on the test set should be calculated and reported as well.\n",
    "### Feel free to use as many code cells as needed."
   ]
  },
  {
   "cell_type": "code",
   "execution_count": 141,
   "metadata": {
    "collapsed": false,
    "deletable": true,
    "editable": true
   },
   "outputs": [
    {
     "name": "stdout",
     "output_type": "stream",
     "text": [
      "(?, 14, 14, 6)\n",
      "()\n"
     ]
    }
   ],
   "source": [
    "rate = 0.001\n",
    "\n",
    "logits,l2_loss,weights = LeNet(x,keep_prob)\n",
    "logits_softmax = tf.nn.softmax(logits)\n",
    "cross_entropy = tf.nn.softmax_cross_entropy_with_logits(logits, one_hot_y)\n",
    "loss_operation = tf.reduce_mean(cross_entropy) + l2_loss\n",
    "optimizer = tf.train.AdamOptimizer(learning_rate = rate)\n",
    "training_operation = optimizer.minimize(loss_operation)"
   ]
  },
  {
   "cell_type": "code",
   "execution_count": 142,
   "metadata": {
    "collapsed": true,
    "deletable": true,
    "editable": true
   },
   "outputs": [],
   "source": [
    "predictions = tf.argmax(logits, 1)\n",
    "correct_prediction = tf.equal(tf.argmax(logits, 1), tf.argmax(one_hot_y, 1))\n",
    "accuracy_operation = tf.reduce_mean(tf.cast(correct_prediction, tf.float32))\n",
    "saver = tf.train.Saver()\n",
    "\n",
    "def evaluate(X_data, y_data):\n",
    "    num_examples = len(X_data)\n",
    "    total_accuracy = 0\n",
    "    sess = tf.get_default_session()\n",
    "    for offset in range(0, num_examples, BATCH_SIZE):\n",
    "        batch_x, batch_y = X_data[offset:offset+BATCH_SIZE], y_data[offset:offset+BATCH_SIZE]\n",
    "        accuracy = sess.run(accuracy_operation, feed_dict={x: batch_x, y: batch_y,keep_prob:1.0})\n",
    "        total_accuracy += (accuracy * len(batch_x))\n",
    "    return total_accuracy / num_examples\n",
    "\n",
    "def inference(X_data,y_data) :\n",
    "    sess = tf.get_default_session()\n",
    "    #return (sess.run(correct_prediction,feed_dict={x:X_data,y:y_data,keep_prob:1.0}))\n",
    "    return (sess.run([predictions,logits_softmax,correct_prediction],feed_dict={x:X_data,y:y_data,keep_prob:1.0}))\n",
    "\n",
    "def inference_2(X_data) :\n",
    "    sess = tf.get_default_session()\n",
    "    #return (sess.run(predictions,feed_dict={x:X_data,keep_prob:1.0}))\n",
    "    return (sess.run([predictions,logits_softmax,logits],feed_dict={x:X_data,keep_prob:1.0}))\n",
    "    "
   ]
  },
  {
   "cell_type": "code",
   "execution_count": 144,
   "metadata": {
    "collapsed": false,
    "deletable": true,
    "editable": true
   },
   "outputs": [
    {
     "name": "stdout",
     "output_type": "stream",
     "text": [
      "Training...\n",
      "\n",
      "EPOCH 1 ...\n",
      "Train Accuracy = 0.333\n",
      "Validation Accuracy = 0.177\n",
      "Loss = 2.846\n",
      "L2 Loss = 0.14563593268394470215\n",
      "Saving best model\n",
      "\n",
      "EPOCH 2 ...\n",
      "Train Accuracy = 0.513\n",
      "Validation Accuracy = 0.447\n",
      "Loss = 1.616\n",
      "L2 Loss = 0.20278647541999816895\n",
      "Saving best model\n",
      "\n",
      "EPOCH 3 ...\n",
      "Train Accuracy = 0.692\n",
      "Validation Accuracy = 0.599\n",
      "Loss = 1.202\n",
      "L2 Loss = 0.18913584947586059570\n",
      "Saving best model\n",
      "\n",
      "EPOCH 4 ...\n",
      "Train Accuracy = 0.821\n",
      "Validation Accuracy = 0.676\n",
      "Loss = 0.961\n",
      "L2 Loss = 0.18052798509597778320\n",
      "Saving best model\n",
      "\n",
      "EPOCH 5 ...\n",
      "Train Accuracy = 0.872\n",
      "Validation Accuracy = 0.753\n",
      "Loss = 0.776\n",
      "L2 Loss = 0.17554491758346557617\n",
      "Saving best model\n",
      "\n",
      "EPOCH 6 ...\n",
      "Train Accuracy = 0.872\n",
      "Validation Accuracy = 0.759\n",
      "Loss = 0.742\n",
      "L2 Loss = 0.16889956593513488770\n",
      "Saving best model\n",
      "\n",
      "EPOCH 7 ...\n",
      "Train Accuracy = 0.897\n",
      "Validation Accuracy = 0.797\n",
      "Loss = 0.598\n",
      "L2 Loss = 0.16198256611824035645\n",
      "Saving best model\n",
      "\n",
      "EPOCH 8 ...\n",
      "Train Accuracy = 0.872\n",
      "Validation Accuracy = 0.789\n",
      "Loss = 0.603\n",
      "L2 Loss = 0.15997029840946197510\n",
      "\n",
      "EPOCH 9 ...\n",
      "Train Accuracy = 0.923\n",
      "Validation Accuracy = 0.791\n",
      "Loss = 0.619\n",
      "L2 Loss = 0.15311688184738159180\n",
      "\n",
      "EPOCH 10 ...\n",
      "Train Accuracy = 0.923\n",
      "Validation Accuracy = 0.811\n",
      "Loss = 0.532\n",
      "L2 Loss = 0.14962770044803619385\n",
      "Saving best model\n",
      "\n",
      "EPOCH 11 ...\n",
      "Train Accuracy = 0.923\n",
      "Validation Accuracy = 0.838\n",
      "Loss = 0.436\n",
      "L2 Loss = 0.15098068118095397949\n",
      "Saving best model\n",
      "\n",
      "EPOCH 12 ...\n",
      "Train Accuracy = 0.923\n",
      "Validation Accuracy = 0.843\n",
      "Loss = 0.438\n",
      "L2 Loss = 0.14572194218635559082\n",
      "Saving best model\n",
      "\n",
      "EPOCH 13 ...\n",
      "Train Accuracy = 0.923\n",
      "Validation Accuracy = 0.840\n",
      "Loss = 0.429\n",
      "L2 Loss = 0.14187945425510406494\n",
      "\n",
      "EPOCH 14 ...\n",
      "Train Accuracy = 0.923\n",
      "Validation Accuracy = 0.854\n",
      "Loss = 0.430\n",
      "L2 Loss = 0.13923364877700805664\n",
      "Saving best model\n",
      "\n",
      "EPOCH 15 ...\n",
      "Train Accuracy = 0.923\n",
      "Validation Accuracy = 0.850\n",
      "Loss = 0.376\n",
      "L2 Loss = 0.13748422265052795410\n",
      "\n",
      "EPOCH 16 ...\n",
      "Train Accuracy = 0.923\n",
      "Validation Accuracy = 0.863\n",
      "Loss = 0.404\n",
      "L2 Loss = 0.13615620136260986328\n",
      "Saving best model\n",
      "\n",
      "EPOCH 17 ...\n",
      "Train Accuracy = 0.923\n",
      "Validation Accuracy = 0.871\n",
      "Loss = 0.357\n",
      "L2 Loss = 0.13131201267242431641\n",
      "Saving best model\n",
      "\n",
      "EPOCH 18 ...\n",
      "Train Accuracy = 0.949\n",
      "Validation Accuracy = 0.877\n",
      "Loss = 0.334\n",
      "L2 Loss = 0.13454353809356689453\n",
      "Saving best model\n",
      "\n",
      "EPOCH 19 ...\n",
      "Train Accuracy = 0.923\n",
      "Validation Accuracy = 0.883\n",
      "Loss = 0.362\n",
      "L2 Loss = 0.13283851742744445801\n",
      "Saving best model\n",
      "\n",
      "EPOCH 20 ...\n",
      "Train Accuracy = 0.923\n",
      "Validation Accuracy = 0.889\n",
      "Loss = 0.318\n",
      "L2 Loss = 0.12695962190628051758\n",
      "Saving best model\n",
      "\n",
      "EPOCH 21 ...\n",
      "Train Accuracy = 0.923\n",
      "Validation Accuracy = 0.881\n",
      "Loss = 0.317\n",
      "L2 Loss = 0.12603591382503509521\n",
      "\n",
      "EPOCH 22 ...\n",
      "Train Accuracy = 0.923\n",
      "Validation Accuracy = 0.899\n",
      "Loss = 0.324\n",
      "L2 Loss = 0.12640568614006042480\n",
      "Saving best model\n",
      "\n",
      "EPOCH 23 ...\n",
      "Train Accuracy = 0.923\n",
      "Validation Accuracy = 0.888\n",
      "Loss = 0.294\n",
      "L2 Loss = 0.12340916693210601807\n",
      "\n",
      "EPOCH 24 ...\n",
      "Train Accuracy = 0.923\n",
      "Validation Accuracy = 0.880\n",
      "Loss = 0.323\n",
      "L2 Loss = 0.12479706108570098877\n",
      "\n",
      "EPOCH 25 ...\n",
      "Train Accuracy = 0.923\n",
      "Validation Accuracy = 0.891\n",
      "Loss = 0.295\n",
      "L2 Loss = 0.12206742912530899048\n",
      "\n",
      "EPOCH 26 ...\n",
      "Train Accuracy = 0.949\n",
      "Validation Accuracy = 0.894\n",
      "Loss = 0.257\n",
      "L2 Loss = 0.12007027119398117065\n",
      "\n",
      "EPOCH 27 ...\n",
      "Train Accuracy = 0.923\n",
      "Validation Accuracy = 0.891\n",
      "Loss = 0.336\n",
      "L2 Loss = 0.11828987300395965576\n",
      "\n",
      "EPOCH 28 ...\n",
      "Train Accuracy = 0.949\n",
      "Validation Accuracy = 0.901\n",
      "Loss = 0.260\n",
      "L2 Loss = 0.11761517822742462158\n",
      "Saving best model\n",
      "\n",
      "EPOCH 29 ...\n",
      "Train Accuracy = 0.949\n",
      "Validation Accuracy = 0.900\n",
      "Loss = 0.240\n",
      "L2 Loss = 0.11582471430301666260\n",
      "\n",
      "EPOCH 30 ...\n",
      "Train Accuracy = 0.923\n",
      "Validation Accuracy = 0.900\n",
      "Loss = 0.260\n",
      "L2 Loss = 0.11436322331428527832\n",
      "\n",
      "EPOCH 31 ...\n",
      "Train Accuracy = 0.949\n",
      "Validation Accuracy = 0.902\n",
      "Loss = 0.230\n",
      "L2 Loss = 0.11282651871442794800\n",
      "Saving best model\n",
      "\n",
      "EPOCH 32 ...\n",
      "Train Accuracy = 1.000\n",
      "Validation Accuracy = 0.904\n",
      "Loss = 0.227\n",
      "L2 Loss = 0.11556479334831237793\n",
      "Saving best model\n",
      "\n",
      "EPOCH 33 ...\n",
      "Train Accuracy = 0.974\n",
      "Validation Accuracy = 0.901\n",
      "Loss = 0.226\n",
      "L2 Loss = 0.11141087114810943604\n",
      "\n",
      "EPOCH 34 ...\n",
      "Train Accuracy = 0.923\n",
      "Validation Accuracy = 0.894\n",
      "Loss = 0.252\n",
      "L2 Loss = 0.11229592561721801758\n",
      "\n",
      "EPOCH 35 ...\n",
      "Train Accuracy = 0.974\n",
      "Validation Accuracy = 0.908\n",
      "Loss = 0.242\n",
      "L2 Loss = 0.10899026691913604736\n",
      "Saving best model\n",
      "\n",
      "EPOCH 36 ...\n",
      "Train Accuracy = 0.974\n",
      "Validation Accuracy = 0.906\n",
      "Loss = 0.214\n",
      "L2 Loss = 0.10926331579685211182\n",
      "\n",
      "EPOCH 37 ...\n",
      "Train Accuracy = 0.974\n",
      "Validation Accuracy = 0.911\n",
      "Loss = 0.218\n",
      "L2 Loss = 0.11000971496105194092\n",
      "Saving best model\n",
      "\n",
      "EPOCH 38 ...\n",
      "Train Accuracy = 1.000\n",
      "Validation Accuracy = 0.908\n",
      "Loss = 0.194\n",
      "L2 Loss = 0.10683827102184295654\n",
      "\n",
      "EPOCH 39 ...\n",
      "Train Accuracy = 0.949\n",
      "Validation Accuracy = 0.917\n",
      "Loss = 0.239\n",
      "L2 Loss = 0.10745289176702499390\n",
      "Saving best model\n",
      "\n",
      "EPOCH 40 ...\n",
      "Train Accuracy = 0.974\n",
      "Validation Accuracy = 0.917\n",
      "Loss = 0.215\n",
      "L2 Loss = 0.10650026053190231323\n",
      "Saving best model\n",
      "\n",
      "EPOCH 41 ...\n",
      "Train Accuracy = 0.949\n",
      "Validation Accuracy = 0.905\n",
      "Loss = 0.230\n",
      "L2 Loss = 0.10334349423646926880\n",
      "\n",
      "EPOCH 42 ...\n",
      "Train Accuracy = 0.974\n",
      "Validation Accuracy = 0.911\n",
      "Loss = 0.191\n",
      "L2 Loss = 0.10252005606889724731\n",
      "\n",
      "EPOCH 43 ...\n",
      "Train Accuracy = 1.000\n",
      "Validation Accuracy = 0.914\n",
      "Loss = 0.195\n",
      "L2 Loss = 0.10300450026988983154\n",
      "\n",
      "EPOCH 44 ...\n",
      "Train Accuracy = 1.000\n",
      "Validation Accuracy = 0.914\n",
      "Loss = 0.186\n",
      "L2 Loss = 0.10497874766588211060\n",
      "\n",
      "EPOCH 45 ...\n",
      "Train Accuracy = 0.974\n",
      "Validation Accuracy = 0.904\n",
      "Loss = 0.189\n",
      "L2 Loss = 0.10375266522169113159\n",
      "\n",
      "EPOCH 46 ...\n",
      "Train Accuracy = 0.974\n",
      "Validation Accuracy = 0.914\n",
      "Loss = 0.217\n",
      "L2 Loss = 0.10246782004833221436\n",
      "\n",
      "EPOCH 47 ...\n",
      "Train Accuracy = 1.000\n",
      "Validation Accuracy = 0.921\n",
      "Loss = 0.181\n",
      "L2 Loss = 0.10432074964046478271\n",
      "Saving best model\n",
      "\n",
      "EPOCH 48 ...\n",
      "Train Accuracy = 1.000\n",
      "Validation Accuracy = 0.923\n",
      "Loss = 0.176\n",
      "L2 Loss = 0.10266414284706115723\n",
      "Saving best model\n",
      "\n",
      "EPOCH 49 ...\n",
      "Train Accuracy = 0.974\n",
      "Validation Accuracy = 0.906\n",
      "Loss = 0.167\n",
      "L2 Loss = 0.10018900036811828613\n",
      "\n",
      "EPOCH 50 ...\n",
      "Train Accuracy = 0.974\n",
      "Validation Accuracy = 0.909\n",
      "Loss = 0.191\n",
      "L2 Loss = 0.09987116605043411255\n",
      "\n",
      "EPOCH 51 ...\n",
      "Train Accuracy = 1.000\n",
      "Validation Accuracy = 0.920\n",
      "Loss = 0.168\n",
      "L2 Loss = 0.10119118541479110718\n",
      "\n",
      "EPOCH 52 ...\n",
      "Train Accuracy = 1.000\n",
      "Validation Accuracy = 0.923\n",
      "Loss = 0.157\n",
      "L2 Loss = 0.09806872904300689697\n",
      "\n",
      "EPOCH 53 ...\n",
      "Train Accuracy = 1.000\n",
      "Validation Accuracy = 0.920\n",
      "Loss = 0.162\n",
      "L2 Loss = 0.09873133897781372070\n",
      "\n",
      "EPOCH 54 ...\n",
      "Train Accuracy = 0.974\n",
      "Validation Accuracy = 0.917\n",
      "Loss = 0.172\n",
      "L2 Loss = 0.09960639476776123047\n",
      "\n",
      "EPOCH 55 ...\n",
      "Train Accuracy = 0.974\n",
      "Validation Accuracy = 0.920\n",
      "Loss = 0.160\n",
      "L2 Loss = 0.09676133096218109131\n",
      "\n",
      "EPOCH 56 ...\n",
      "Train Accuracy = 1.000\n",
      "Validation Accuracy = 0.927\n",
      "Loss = 0.156\n",
      "L2 Loss = 0.09594456851482391357\n",
      "Saving best model\n",
      "\n",
      "EPOCH 57 ...\n",
      "Train Accuracy = 1.000\n",
      "Validation Accuracy = 0.914\n",
      "Loss = 0.172\n",
      "L2 Loss = 0.09537148475646972656\n",
      "\n",
      "EPOCH 58 ...\n",
      "Train Accuracy = 1.000\n",
      "Validation Accuracy = 0.912\n",
      "Loss = 0.166\n",
      "L2 Loss = 0.09626317769289016724\n",
      "\n",
      "EPOCH 59 ...\n",
      "Train Accuracy = 1.000\n",
      "Validation Accuracy = 0.922\n",
      "Loss = 0.148\n",
      "L2 Loss = 0.09631982445716857910\n",
      "\n",
      "EPOCH 60 ...\n",
      "Train Accuracy = 1.000\n",
      "Validation Accuracy = 0.921\n",
      "Loss = 0.144\n",
      "L2 Loss = 0.09488601237535476685\n",
      "\n",
      "Model saved\n"
     ]
    }
   ],
   "source": [
    "EPOCHS = 60\n",
    "with tf.Session() as sess:\n",
    "    sess.run(tf.global_variables_initializer())\n",
    "    num_examples = len(X_train)\n",
    "    \n",
    "\n",
    "    best_accuracy = float(\"-inf\")\n",
    "    print(\"Training...\")\n",
    "    print()\n",
    "    \n",
    "    for i in range(EPOCHS):\n",
    "        #X_train, y_train = shuffle(X_train, y_train)\n",
    "        for offset in range(0, num_examples, BATCH_SIZE):\n",
    "            end = offset + BATCH_SIZE\n",
    "            batch_x, batch_y = X_train[offset:end], y_train[offset:end]\n",
    "            sess.run(training_operation, feed_dict={x: batch_x, y: batch_y,keep_prob:0.3})\n",
    "            \n",
    "        loss,l2_loss_f,weight_f = sess.run([loss_operation,l2_loss,weights], feed_dict={x: batch_x, y: batch_y,keep_prob:1.0})  \n",
    "        train_accuracy = evaluate(batch_x,batch_y)\n",
    "        validation_accuracy = evaluate(X_valid, y_valid)\n",
    "        print(\"EPOCH {} ...\".format(i+1))\n",
    "        print(\"Train Accuracy = {:.3f}\".format(train_accuracy))\n",
    "        print(\"Validation Accuracy = {:.3f}\".format(validation_accuracy))\n",
    "        print(\"Loss = {:.3f}\".format(loss))\n",
    "        print(\"L2 Loss = {:.20f}\".format(l2_loss_f))\n",
    "        #print(\"Weights\",weight_f)\n",
    "        if (validation_accuracy > best_accuracy) : \n",
    "            print('Saving best model')\n",
    "            saver.save(sess,'./best_model')\n",
    "            best_accuracy = validation_accuracy\n",
    "        print()\n",
    "        \n",
    "    saver.save(sess, './lenet')\n",
    "    print(\"Model saved\")"
   ]
  },
  {
   "cell_type": "code",
   "execution_count": 145,
   "metadata": {
    "collapsed": false,
    "deletable": true,
    "editable": true
   },
   "outputs": [
    {
     "name": "stdout",
     "output_type": "stream",
     "text": [
      "./best_model\n",
      "Test Accuracy = 0.904\n"
     ]
    }
   ],
   "source": [
    "checkpoint_name = './best_model'\n",
    "print(checkpoint_name)\n",
    "with tf.Session() as sess:\n",
    "    saver.restore(sess, checkpoint_name)\n",
    "\n",
    "    test_accuracy = evaluate(X_test, y_test)\n",
    "    print(\"Test Accuracy = {:.3f}\".format(test_accuracy))"
   ]
  },
  {
   "cell_type": "code",
   "execution_count": 146,
   "metadata": {
    "collapsed": false
   },
   "outputs": [
    {
     "name": "stdout",
     "output_type": "stream",
     "text": [
      "(12630, 43)\n",
      "[  1.12526488e-10   2.74976851e-12   3.30258910e-11   1.96397476e-09\n",
      "   1.34178616e-14   1.44598946e-08   1.86810116e-11   2.26806861e-07\n",
      "   3.11376480e-11   1.00672435e-06   2.35149389e-09   1.24920538e-12\n",
      "   2.17986046e-12   1.69660969e-11   8.13269330e-12   9.61822011e-11\n",
      "   9.99998689e-01   7.48985263e-10   3.75657665e-11   1.03956309e-10\n",
      "   1.13981970e-10   2.40431308e-12   5.71208705e-12   2.62825664e-11\n",
      "   3.64890149e-12   1.61852942e-12   9.64615432e-13   1.40063577e-11\n",
      "   1.28424354e-12   2.96140282e-12   4.56797447e-12   2.90281010e-13\n",
      "   2.38046560e-09   5.74082622e-11   2.47204507e-10   2.15904811e-11\n",
      "   3.34247322e-12   2.23800340e-12   7.28372362e-11   5.25600180e-12\n",
      "   6.74279965e-10   2.19361205e-08   1.72481793e-10]\n"
     ]
    }
   ],
   "source": [
    "with tf.Session() as sess:\n",
    "    saver.restore(sess, checkpoint_name)\n",
    "\n",
    "    [pred,prob,corr_pred] = inference(X_test, y_test)\n",
    "    \n",
    "print(prob.shape)\n",
    "print(prob[0])"
   ]
  },
  {
   "cell_type": "code",
   "execution_count": 147,
   "metadata": {
    "collapsed": false,
    "deletable": true,
    "editable": true
   },
   "outputs": [
    {
     "name": "stdout",
     "output_type": "stream",
     "text": [
      "[21, 85, 90, 5.555555555555555, 270]\n",
      "[27, 38, 60, 36.666666666666664, 210]\n",
      "[19, 27, 60, 55.00000000000001, 180]\n",
      "[0, 26, 60, 56.666666666666664, 180]\n",
      "[30, 58, 150, 61.33333333333333, 390]\n",
      "[24, 27, 90, 70.0, 240]\n",
      "[29, 24, 90, 73.33333333333333, 240]\n",
      "[40, 24, 90, 73.33333333333333, 300]\n",
      "[18, 89, 390, 77.17948717948718, 2160]\n",
      "[20, 19, 90, 78.88888888888889, 300]\n",
      "[23, 31, 150, 79.33333333333333, 450]\n",
      "[5, 116, 630, 81.58730158730158, 1650]\n",
      "[26, 33, 180, 81.66666666666667, 540]\n",
      "[41, 11, 60, 81.66666666666667, 210]\n",
      "[6, 26, 150, 82.66666666666667, 360]\n",
      "[28, 24, 150, 84.0, 480]\n",
      "[42, 14, 90, 84.44444444444444, 210]\n",
      "[7, 54, 450, 88.0, 1290]\n",
      "[37, 7, 60, 88.33333333333333, 180]\n",
      "[14, 31, 270, 88.51851851851852, 690]\n",
      "[3, 48, 450, 89.33333333333333, 1260]\n",
      "[8, 43, 450, 90.44444444444444, 1260]\n",
      "[9, 42, 480, 91.25, 1320]\n",
      "[4, 57, 660, 91.36363636363637, 1770]\n",
      "[25, 33, 480, 93.125, 1350]\n",
      "[11, 28, 420, 93.33333333333333, 1170]\n",
      "[2, 45, 750, 94.0, 2010]\n",
      "[38, 39, 690, 94.34782608695652, 1860]\n",
      "[22, 6, 120, 95.0, 330]\n",
      "[32, 3, 60, 95.0, 210]\n",
      "[39, 4, 90, 95.55555555555556, 270]\n",
      "[35, 15, 390, 96.15384615384616, 1080]\n",
      "[1, 25, 720, 96.52777777777779, 1980]\n",
      "[10, 22, 660, 96.66666666666667, 1800]\n",
      "[12, 17, 690, 97.53623188405797, 1890]\n",
      "[15, 3, 210, 98.57142857142858, 540]\n",
      "[16, 2, 150, 98.66666666666667, 360]\n",
      "[13, 9, 720, 98.75, 1920]\n",
      "[17, 3, 360, 99.16666666666667, 990]\n",
      "[34, 1, 120, 99.16666666666667, 360]\n",
      "[36, 1, 120, 99.16666666666667, 330]\n",
      "[31, 0, 270, 100.0, 690]\n",
      "[33, 0, 210, 100.0, 599]\n"
     ]
    }
   ],
   "source": [
    "t = np.where(corr_pred == False)\n",
    "a = t[0]\n",
    "Xinc = X_test[a]\n",
    "yinc = y_test[a]\n",
    "test = np.sort(yinc)\n",
    "list_of_vals = []\n",
    "for i in range(0,43) :\n",
    "    number = i\n",
    "    incorrect = np.where(test==number)\n",
    "    total = np.where(y_test == number)\n",
    "    train_total = np.where(y_train == number)\n",
    "    \n",
    "    accuracy = (((len(total[0]) * 1.0) - len(incorrect[0])) / len(total[0])) * 100.0\n",
    "    list_of_vals.append([number,len(incorrect[0]),len(total[0]),accuracy,len(train_total[0])])\n",
    "\n",
    "sorted_list = sorted(list_of_vals,key=lambda x: x[3])\n",
    "for i in range(0,len(sorted_list)):\n",
    "    print(sorted_list[i])"
   ]
  },
  {
   "cell_type": "code",
   "execution_count": 148,
   "metadata": {
    "collapsed": false
   },
   "outputs": [
    {
     "name": "stdout",
     "output_type": "stream",
     "text": [
      "Test Accuracy = 0.993\n",
      "[ -3.04422617  -4.66570187  -3.40198922  -5.52812147  -2.47383642\n",
      "  -1.1460743   -3.7206533   -4.50308514  -3.18241501  -2.74228764\n",
      "  -4.37784529  11.77393723   4.06785774  -3.10443234  -3.49403381\n",
      "  -3.99864316  -5.03635883  -0.16788483  18.79711342   0.68223393\n",
      "  -2.74968958  -1.31852639   0.17823446   1.86143124  10.58852959\n",
      "  -3.27408671   9.92492962  12.08839989   2.69898701  -2.63712788\n",
      "  -2.24322319   2.45849252  -3.96673727  -0.99346465  -0.2527498\n",
      "  -0.54391003  -3.52549458   2.18585157  -0.5961284   -2.71930695\n",
      "  -2.34962392   0.60257888  -2.17716646]\n"
     ]
    }
   ],
   "source": [
    "group_train = group_data_per_class(X_train,y_train)\n",
    "Xtest_temp = group_train[0][18]\n",
    "ytest_temp = group_train[1][18]\n",
    "with tf.Session() as sess:\n",
    "    saver.restore(sess, checkpoint_name)\n",
    "\n",
    "    test_accuracy = evaluate(Xtest_temp, ytest_temp)\n",
    "    _,_,logits_test = inference_2(Xtest_temp)\n",
    "    print(\"Test Accuracy = {:.3f}\".format(test_accuracy))\n",
    "    print(logits_test[0])"
   ]
  },
  {
   "cell_type": "markdown",
   "metadata": {
    "deletable": true,
    "editable": true
   },
   "source": [
    "---\n",
    "\n",
    "## Step 3: Test a Model on New Images\n",
    "\n",
    "To give yourself more insight into how your model is working, download at least five pictures of German traffic signs from the web and use your model to predict the traffic sign type.\n",
    "\n",
    "You may find `signnames.csv` useful as it contains mappings from the class id (integer) to the actual sign name."
   ]
  },
  {
   "cell_type": "markdown",
   "metadata": {
    "deletable": true,
    "editable": true
   },
   "source": [
    "### Load and Output the Images"
   ]
  },
  {
   "cell_type": "code",
   "execution_count": null,
   "metadata": {
    "collapsed": false,
    "deletable": true,
    "editable": true
   },
   "outputs": [],
   "source": [
    "import pandas as pd\n",
    "labels_df = pd.read_csv('signnames.csv')\n",
    "\n",
    "### Load the images and plot them here.\n",
    "### Feel free to use as many code cells as needed.\n",
    "from os import listdir\n",
    "from os.path import isfile, join\n",
    "def generate_new_imgs() :\n",
    "    img_dir = './new_images'\n",
    "    files = [f for f in listdir(img_dir) if isfile(join(img_dir, f))]\n",
    "    resized_img_array = []\n",
    "    orig_img_array = []\n",
    "    for image in files :\n",
    "        test_imgs = misc.imread(img_dir + '/' + image)\n",
    "        test_imgs_rz = resizeImg(test_imgs)\n",
    "        orig_img_array.append(test_imgs)\n",
    "        resized_img_array.append(test_imgs_rz)\n",
    "        \n",
    "    return [orig_img_array,np.array(resized_img_array)]\n",
    "\n",
    "_,test = generate_new_imgs()\n",
    "test.shape\n",
    "    \n"
   ]
  },
  {
   "cell_type": "code",
   "execution_count": null,
   "metadata": {
    "collapsed": false,
    "deletable": true,
    "editable": true
   },
   "outputs": [],
   "source": [
    "new_images_orig, new_images_resized = generate_new_imgs()\n",
    "\n",
    "for i in range(0,len(new_images_orig)) :\n",
    "    img = new_images_orig[i]\n",
    "    # Plot image\n",
    "    plt.subplot(1, len(new_images_orig),(i + 1))\n",
    "    plt.imshow(img);\n",
    "    #plt.title(labels_df.ix[pred[i]]['SignName']);\n",
    "    plt.axis('off')\n"
   ]
  },
  {
   "cell_type": "code",
   "execution_count": null,
   "metadata": {
    "collapsed": false,
    "deletable": true,
    "editable": true
   },
   "outputs": [],
   "source": [
    "with tf.Session() as sess:\n",
    "    saver.restore(sess, checkpoint_name)\n",
    "\n",
    "    [pred,prob] = inference_2(test_imgs)\n",
    "    \n",
    "print(pred.shape)\n",
    "print(pred[0])\n",
    "labels_df.ix[pred[0]]['SignName'] "
   ]
  },
  {
   "cell_type": "markdown",
   "metadata": {
    "deletable": true,
    "editable": true
   },
   "source": [
    "### Predict the Sign Type for Each Image"
   ]
  },
  {
   "cell_type": "code",
   "execution_count": null,
   "metadata": {
    "collapsed": true,
    "deletable": true,
    "editable": true
   },
   "outputs": [],
   "source": [
    "### Run the predictions here and use the model to output the prediction for each image.\n",
    "### Make sure to pre-process the images with the same pre-processing pipeline used earlier.\n",
    "### Feel free to use as many code cells as needed.\n"
   ]
  },
  {
   "cell_type": "code",
   "execution_count": null,
   "metadata": {
    "collapsed": false,
    "deletable": true,
    "editable": true
   },
   "outputs": [],
   "source": [
    "#Preprocess\n",
    "new_images_resized.shape\n",
    "test_imgs = normalize(rgb2gray(new_images_resized))\n",
    "test_imgs = test_imgs.reshape((-1,32,32,1))\n",
    "test_imgs.shape"
   ]
  },
  {
   "cell_type": "code",
   "execution_count": null,
   "metadata": {
    "collapsed": false,
    "deletable": true,
    "editable": true
   },
   "outputs": [],
   "source": [
    "with tf.Session() as sess:\n",
    "    saver.restore(sess,checkpoint_name)\n",
    "\n",
    "    [pred,prob] = inference_2(test_imgs)\n",
    "    \n",
    "print(prob.shape)\n",
    "print(prob[0])"
   ]
  },
  {
   "cell_type": "markdown",
   "metadata": {
    "deletable": true,
    "editable": true
   },
   "source": [
    "### Analyze Performance"
   ]
  },
  {
   "cell_type": "code",
   "execution_count": null,
   "metadata": {
    "collapsed": true,
    "deletable": true,
    "editable": true
   },
   "outputs": [],
   "source": [
    "### Calculate the accuracy for these 5 new images. \n",
    "### For example, if the model predicted 1 out of 5 signs correctly, it's 20% accurate on these new images."
   ]
  },
  {
   "cell_type": "markdown",
   "metadata": {
    "deletable": true,
    "editable": true
   },
   "source": [
    "### Output Top 5 Softmax Probabilities For Each Image Found on the Web"
   ]
  },
  {
   "cell_type": "markdown",
   "metadata": {
    "deletable": true,
    "editable": true
   },
   "source": [
    "For each of the new images, print out the model's softmax probabilities to show the **certainty** of the model's predictions (limit the output to the top 5 probabilities for each image). [`tf.nn.top_k`](https://www.tensorflow.org/versions/r0.12/api_docs/python/nn.html#top_k) could prove helpful here. \n",
    "\n",
    "The example below demonstrates how tf.nn.top_k can be used to find the top k predictions for each image.\n",
    "\n",
    "`tf.nn.top_k` will return the values and indices (class ids) of the top k predictions. So if k=3, for each sign, it'll return the 3 largest probabilities (out of a possible 43) and the correspoding class ids.\n",
    "\n",
    "Take this numpy array as an example. The values in the array represent predictions. The array contains softmax probabilities for five candidate images with six possible classes. `tk.nn.top_k` is used to choose the three classes with the highest probability:\n",
    "\n",
    "```\n",
    "# (5, 6) array\n",
    "a = np.array([[ 0.24879643,  0.07032244,  0.12641572,  0.34763842,  0.07893497,\n",
    "         0.12789202],\n",
    "       [ 0.28086119,  0.27569815,  0.08594638,  0.0178669 ,  0.18063401,\n",
    "         0.15899337],\n",
    "       [ 0.26076848,  0.23664738,  0.08020603,  0.07001922,  0.1134371 ,\n",
    "         0.23892179],\n",
    "       [ 0.11943333,  0.29198961,  0.02605103,  0.26234032,  0.1351348 ,\n",
    "         0.16505091],\n",
    "       [ 0.09561176,  0.34396535,  0.0643941 ,  0.16240774,  0.24206137,\n",
    "         0.09155967]])\n",
    "```\n",
    "\n",
    "Running it through `sess.run(tf.nn.top_k(tf.constant(a), k=3))` produces:\n",
    "\n",
    "```\n",
    "TopKV2(values=array([[ 0.34763842,  0.24879643,  0.12789202],\n",
    "       [ 0.28086119,  0.27569815,  0.18063401],\n",
    "       [ 0.26076848,  0.23892179,  0.23664738],\n",
    "       [ 0.29198961,  0.26234032,  0.16505091],\n",
    "       [ 0.34396535,  0.24206137,  0.16240774]]), indices=array([[3, 0, 5],\n",
    "       [0, 1, 4],\n",
    "       [0, 5, 1],\n",
    "       [1, 3, 5],\n",
    "       [1, 4, 3]], dtype=int32))\n",
    "```\n",
    "\n",
    "Looking just at the first row we get `[ 0.34763842,  0.24879643,  0.12789202]`, you can confirm these are the 3 largest probabilities in `a`. You'll also notice `[3, 0, 5]` are the corresponding indices."
   ]
  },
  {
   "cell_type": "code",
   "execution_count": null,
   "metadata": {
    "collapsed": true,
    "deletable": true,
    "editable": true
   },
   "outputs": [],
   "source": [
    "### Print out the top five softmax probabilities for the predictions on the German traffic sign images found on the web. \n",
    "### Feel free to use as many code cells as needed."
   ]
  },
  {
   "cell_type": "code",
   "execution_count": null,
   "metadata": {
    "collapsed": false,
    "deletable": true,
    "editable": true
   },
   "outputs": [],
   "source": [
    "### Visualize the softmax probabilities here.\n",
    "### Feel free to use as many code cells as needed.\n",
    "\n",
    "with tf.Session() as sess:\n",
    "    num_classes = 5\n",
    "    top_k_classes = tf.nn.top_k(prob, num_classes);\n",
    "    prob, class_id = sess.run(top_k_classes, feed_dict={x: test_imgs})\n",
    "\n",
    "\n",
    "for i in range(test_imgs.shape[0]):\n",
    "    plt.figure();\n",
    "    plt.imshow(np.squeeze(test_imgs[i, :, :, :]), cmap='gray')\n",
    "    plt.imshow(new_images_orig[i])\n",
    "    text = ''\n",
    "    for j in range(num_classes):\n",
    "        text += labels_df.ix[class_id[i,j]]['SignName'] + ' - %.1f%%' % (100.0 * prob[i,j]) + '\\n'\n",
    "    plt.xlabel(text);   \n"
   ]
  },
  {
   "cell_type": "markdown",
   "metadata": {
    "deletable": true,
    "editable": true
   },
   "source": [
    "> **Note**: Once you have completed all of the code implementations, you need to finalize your work by exporting the IPython Notebook as an HTML document. Before exporting the notebook to html, all of the code cells need to have been run. You can then export the notebook by using the menu above and navigating to  \\n\",\n",
    "    \"**File -> Download as -> HTML (.html)**. Include the finished document along with this notebook as your submission. "
   ]
  },
  {
   "cell_type": "markdown",
   "metadata": {
    "deletable": true,
    "editable": true
   },
   "source": [
    "### Project Writeup\n",
    "\n",
    "Once you have completed the code implementation, document your results in a project writeup using this [template](https://github.com/udacity/CarND-Traffic-Sign-Classifier-Project/blob/master/writeup_template.md) as a guide. The writeup can be in a markdown or pdf file. "
   ]
  }
 ],
 "metadata": {
  "anaconda-cloud": {},
  "kernelspec": {
   "display_name": "Python 3",
   "language": "python",
   "name": "python3"
  },
  "language_info": {
   "codemirror_mode": {
    "name": "ipython",
    "version": 3
   },
   "file_extension": ".py",
   "mimetype": "text/x-python",
   "name": "python",
   "nbconvert_exporter": "python",
   "pygments_lexer": "ipython3",
   "version": "3.5.2"
  },
  "widgets": {
   "state": {},
   "version": "1.1.2"
  }
 },
 "nbformat": 4,
 "nbformat_minor": 1
}
